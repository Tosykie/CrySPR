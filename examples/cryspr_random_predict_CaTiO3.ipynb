{
 "cells": [
  {
   "cell_type": "code",
   "execution_count": null,
   "id": "dbdeecec-f8d3-4ac5-8729-40e852dd396a",
   "metadata": {},
   "outputs": [],
   "source": [
    "import sys\n",
    "sys.path.insert(0, '..')\n",
    "from cryspr.calculators import *\n",
    "from cryspr.utils.predict import random_predict"
   ]
  },
  {
   "cell_type": "code",
   "execution_count": null,
   "id": "ea78fd0b-395a-45de-b9ed-df29e94548db",
   "metadata": {
    "scrolled": true
   },
   "outputs": [],
   "source": [
    "res = random_predict(\n",
    "    reduced_formula=\"CaTiO3\",\n",
    "    Z_start=1,\n",
    "    Z_end=6,\n",
    "    space_group_numbers=[62, 74, 140],\n",
    "    relax_calculator=CHGNetCalculator(),\n",
    "    fmax=0.05,\n",
    "    n_trial_each_space_group=50,\n",
    "    wdir=\"./test_predict\",\n",
    "    logfile=\"test_predict.log\",\n",
    "    relax_logfile_prefix=\"CaTiO3\",\n",
    ")"
   ]
  },
  {
   "cell_type": "code",
   "execution_count": 6,
   "id": "bd9fc9bf-d740-4653-8bbf-4a2b43a4dd46",
   "metadata": {},
   "outputs": [
    {
     "name": "stderr",
     "output_type": "stream",
     "text": [
      "/opt/anaconda3/envs/msml/lib/python3.9/site-packages/pymatgen/io/ase.py:256: UserWarning: Only FixAtoms is supported by Pymatgen. Other constraints will not be set.\n",
      "  warnings.warn(\n"
     ]
    },
    {
     "data": {
      "text/html": [
       "<div>\n",
       "<style scoped>\n",
       "    .dataframe tbody tr th:only-of-type {\n",
       "        vertical-align: middle;\n",
       "    }\n",
       "\n",
       "    .dataframe tbody tr th {\n",
       "        vertical-align: top;\n",
       "    }\n",
       "\n",
       "    .dataframe thead th {\n",
       "        text-align: right;\n",
       "    }\n",
       "</style>\n",
       "<table border=\"1\" class=\"dataframe\">\n",
       "  <thead>\n",
       "    <tr style=\"text-align: right;\">\n",
       "      <th></th>\n",
       "      <th>space_group_number</th>\n",
       "      <th>energies</th>\n",
       "      <th>Emin</th>\n",
       "    </tr>\n",
       "  </thead>\n",
       "  <tbody>\n",
       "    <tr>\n",
       "      <th>0</th>\n",
       "      <td>62</td>\n",
       "      <td>[-8.310765266418457, -8.024738311767578, -7.08...</td>\n",
       "      <td>-8.483047</td>\n",
       "    </tr>\n",
       "    <tr>\n",
       "      <th>1</th>\n",
       "      <td>74</td>\n",
       "      <td>[-7.40491247177124, -7.202150344848633, -7.069...</td>\n",
       "      <td>-8.473034</td>\n",
       "    </tr>\n",
       "    <tr>\n",
       "      <th>2</th>\n",
       "      <td>140</td>\n",
       "      <td>[-6.982333660125732, -7.362375259399414, -6.94...</td>\n",
       "      <td>-8.466143</td>\n",
       "    </tr>\n",
       "  </tbody>\n",
       "</table>\n",
       "</div>"
      ],
      "text/plain": [
       "   space_group_number                                           energies  \\\n",
       "0                  62  [-8.310765266418457, -8.024738311767578, -7.08...   \n",
       "1                  74  [-7.40491247177124, -7.202150344848633, -7.069...   \n",
       "2                 140  [-6.982333660125732, -7.362375259399414, -6.94...   \n",
       "\n",
       "       Emin  \n",
       "0 -8.483047  \n",
       "1 -8.473034  \n",
       "2 -8.466143  "
      ]
     },
     "execution_count": 6,
     "metadata": {},
     "output_type": "execute_result"
    }
   ],
   "source": [
    "energy_info = {}\n",
    "\n",
    "formula = res[4][0]\n",
    "atoms_dict: dict = res[4][1]\n",
    "\n",
    "for spg in atoms_dict.keys():\n",
    "    energies = []\n",
    "    for atoms in atoms_dict[spg]:\n",
    "        energy_per_atom = atoms.get_potential_energy()/len(atoms)\n",
    "        energies.append(energy_per_atom)\n",
    "    energy_info[spg] = energies\n",
    "\n",
    "import pandas as pd\n",
    "df = pd.DataFrame(\n",
    "{\n",
    "    \"space_group_number\": list(energy_info.keys()),\n",
    "    \"energies\": list(energy_info.values()),\n",
    "}\n",
    ")\n",
    "\n",
    "df[\"Emin\"] = df.apply(lambda df: min(df[\"energies\"]), axis=1)\n",
    "df"
   ]
  },
  {
   "cell_type": "code",
   "execution_count": 7,
   "id": "58e3b5d4-0f57-4bdc-b75d-e487b5aa354c",
   "metadata": {},
   "outputs": [
    {
     "data": {
      "text/plain": [
       "<Axes: xlabel='space_group_number', ylabel='Emin'>"
      ]
     },
     "execution_count": 7,
     "metadata": {},
     "output_type": "execute_result"
    },
    {
     "data": {
      "image/png": "[encoded data removed]",
      "text/plain": [
       "<Figure size 640x480 with 1 Axes>"
      ]
     },
     "metadata": {},
     "output_type": "display_data"
    }
   ],
   "source": [
    "import seaborn as sns\n",
    "sns.scatterplot(df, x=\"space_group_number\", y=\"Emin\")"
   ]
  },
  {
   "cell_type": "code",
   "execution_count": null,
   "id": "0b78345b-4d6a-4673-951e-73c4a1d755e1",
   "metadata": {},
   "outputs": [],
   "source": []
  }
 ],
 "metadata": {
  "kernelspec": {
   "display_name": "Python 3 (ML for Materials Science)",
   "language": "python",
   "name": "conda-msml"
  },
  "language_info": {
   "codemirror_mode": {
    "name": "ipython",
    "version": 3
   },
   "file_extension": ".py",
   "mimetype": "text/x-python",
   "name": "python",
   "nbconvert_exporter": "python",
   "pygments_lexer": "ipython3",
   "version": "3.9.19"
  }
 },
 "nbformat": 4,
 "nbformat_minor": 5
}
