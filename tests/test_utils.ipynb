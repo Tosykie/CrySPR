{
 "cells": [
  {
   "cell_type": "code",
   "execution_count": 1,
   "outputs": [],
   "source": [
    "from cryspr.utils.struct import get_structure_from_pyxtal"
   ],
   "metadata": {
    "collapsed": false,
    "ExecuteTime": {
     "end_time": "2024-04-26T19:02:07.803277500Z",
     "start_time": "2024-04-26T19:02:02.582359400Z"
    }
   },
   "id": "initial_id"
  },
  {
   "cell_type": "code",
   "execution_count": 2,
   "id": "766dd09b45a95954",
   "metadata": {
    "ExecuteTime": {
     "end_time": "2024-04-26T19:02:07.880731300Z",
     "start_time": "2024-04-26T19:02:07.808276400Z"
    }
   },
   "outputs": [
    {
     "name": "stdout",
     "output_type": "stream",
     "text": [
      "[2024-Apr-27 03:02:07] Warning: Input chemical formula Ca2Ti2O6 is not reduced.\n",
      "[2024-Apr-27 03:02:07] Warning: Reduced formula CaTiO3 will be used instead.\n",
      "\n",
      "\n",
      "[2024-Apr-27 03:02:07] Error: Exception occurred:\n",
      "Compoisition [1 1 3] not compatible with symmetry 62\n",
      "\n",
      "[2024-Apr-27 03:02:07] Error: Exception occurred:\n",
      "Compoisition [2 2 6] not compatible with symmetry 62\n",
      "\n",
      "[2024-Apr-27 03:02:07] Error: Exception occurred:\n",
      "Compoisition [3 3 9] not compatible with symmetry 62\n",
      "\n",
      "[2024-Apr-27 03:02:07] Info: Successfully generated structure for Ca2Ti2O6 with Z = 4\n",
      "[2024-Apr-27 03:02:07] Info: Degree of freedom: total = 10, lattice = 3, postions = 7\n",
      "[2024-Apr-27 03:02:07] Info: pyxtal representation:\n",
      "\n",
      "------Crystal from random------\n",
      "Dimension: 3\n",
      "Composition: Ca4Ti4O12\n",
      "Group: P n m a (62)\n",
      "  6.0000,   8.0000,   6.1000,  90.0000,  90.0000,  90.0000, orthorhombic\n",
      "Wyckoff sites:\n",
      "\tCa @ [ 0.2928  0.2500  0.8540], WP [4c] Site [.m.]\n",
      "\tTi @ [ 0.0000  0.0000  0.0000], WP [4a] Site [-1]\n",
      "\t O @ [ 0.7081  0.2500  0.3428], WP [4c] Site [.m.]\n",
      "\t O @ [ 0.7970  0.4661  0.1987], WP [8d] Site [1]\n",
      "\n",
      "\n",
      "[2024-Apr-27 03:02:07] Error: Exception occurred:\n",
      "Compoisition [ 5  5 15] not compatible with symmetry 62\n",
      "\n",
      "[2024-Apr-27 03:02:07] Error: Exception occurred:\n",
      "Compoisition [ 6  6 18] not compatible with symmetry 62\n"
     ]
    },
    {
     "data": {
      "text/plain": "{4: {'full_formula': 'Ca4Ti4O12',\n  'pyxtal': \n  ------Crystal from random------\n  Dimension: 3\n  Composition: Ca4Ti4O12\n  Group: P n m a (62)\n    6.0000,   8.0000,   6.1000,  90.0000,  90.0000,  90.0000, orthorhombic\n  Wyckoff sites:\n  \tCa @ [ 0.2928  0.2500  0.8540], WP [4c] Site [.m.]\n  \tTi @ [ 0.0000  0.0000  0.0000], WP [4a] Site [-1]\n  \t O @ [ 0.7081  0.2500  0.3428], WP [4c] Site [.m.]\n  \t O @ [ 0.7970  0.4661  0.1987], WP [8d] Site [1],\n  'ase_Atoms': Atoms(symbols='O12Ca4Ti4', pbc=True, cell=[[6.0, 3.6739403974420594e-16, 3.6739403974420594e-16], [0.0, 8.0, 4.898587196589413e-16], [0.0, 0.0, 6.1]])}}"
     },
     "execution_count": 2,
     "metadata": {},
     "output_type": "execute_result"
    }
   ],
   "source": [
    "out = get_structure_from_pyxtal(\n",
    "    reduced_formula=\"Ca2Ti2O6\",\n",
    "    space_group_number=62,\n",
    "    lattice_parameters=[6., 8., 6.1, 90., 90., 90.],\n",
    "    Z_start=1,\n",
    "    Z_end=6,\n",
    "    verbose=True,\n",
    "    logfile=\"test_log.log\",\n",
    "    cif_prefix=\"test\",\n",
    ")\n",
    "out"
   ]
  }
 ],
 "metadata": {
  "kernelspec": {
   "display_name": "Python 3 (ipykernel)",
   "language": "python",
   "name": "python3"
  },
  "language_info": {
   "codemirror_mode": {
    "name": "ipython",
    "version": 3
   },
   "file_extension": ".py",
   "mimetype": "text/x-python",
   "name": "python",
   "nbconvert_exporter": "python",
   "pygments_lexer": "ipython3",
   "version": "3.9.19"
  }
 },
 "nbformat": 4,
 "nbformat_minor": 5
}
