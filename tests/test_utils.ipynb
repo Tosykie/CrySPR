{
 "cells": [
  {
   "cell_type": "code",
   "execution_count": 1,
   "outputs": [],
   "source": [
    "from cryspr.utils.struct import get_structure_from_pyxtal"
   ],
   "metadata": {
    "collapsed": false,
    "ExecuteTime": {
     "end_time": "2024-04-26T19:12:57.858779800Z",
     "start_time": "2024-04-26T19:12:52.844790900Z"
    }
   },
   "id": "initial_id"
  },
  {
   "cell_type": "code",
   "execution_count": 2,
   "id": "766dd09b45a95954",
   "metadata": {
    "ExecuteTime": {
     "end_time": "2024-04-26T19:12:57.940346100Z",
     "start_time": "2024-04-26T19:12:57.863174700Z"
    }
   },
   "outputs": [
    {
     "name": "stdout",
     "output_type": "stream",
     "text": [
      "[2024-Apr-27 03:12:57] Warning: Input chemical formula Ca2Ti2O6 is not reduced.\n",
      "[2024-Apr-27 03:12:57] Warning: Reduced formula CaTiO3 will be used instead.\n",
      "\n",
      "\n",
      "[2024-Apr-27 03:12:57] Error: Exception occurred:\n",
      "Compoisition [1 1 3] not compatible with symmetry 62\n",
      "\n",
      "[2024-Apr-27 03:12:57] Error: Exception occurred:\n",
      "Compoisition [2 2 6] not compatible with symmetry 62\n",
      "\n",
      "[2024-Apr-27 03:12:57] Error: Exception occurred:\n",
      "Compoisition [3 3 9] not compatible with symmetry 62\n",
      "\n",
      "[2024-Apr-27 03:12:57] Info: Successfully generated structure for Ca2Ti2O6 with Z = 4\n",
      "[2024-Apr-27 03:12:57] Info: Degree of freedom: total = 8, lattice = 3, postions = 5\n",
      "[2024-Apr-27 03:12:57] Info: pyxtal representation:\n",
      "\n",
      "------Crystal from random------\n",
      "Dimension: 3\n",
      "Composition: Ca4Ti4O12\n",
      "Group: P n m a (62)\n",
      "  6.0000,   8.0000,   6.1000,  90.0000,  90.0000,  90.0000, orthorhombic\n",
      "Wyckoff sites:\n",
      "\tCa @ [ 0.5987  0.2500  0.0905], WP [4c] Site [.m.]\n",
      "\tTi @ [ 0.0000  0.0000  0.5000], WP [4b] Site [-1]\n",
      "\t O @ [ 0.9433  0.3895  0.9106], WP [8d] Site [1]\n",
      "\t O @ [ 0.0000  0.0000  0.0000], WP [4a] Site [-1]\n",
      "\n",
      "\n",
      "[2024-Apr-27 03:12:57] Error: Exception occurred:\n",
      "Compoisition [ 5  5 15] not compatible with symmetry 62\n",
      "\n",
      "[2024-Apr-27 03:12:57] Error: Exception occurred:\n",
      "Compoisition [ 6  6 18] not compatible with symmetry 62\n"
     ]
    },
    {
     "data": {
      "text/plain": "{4: {'full_formula': 'Ca4Ti4O12',\n  'pyxtal': \n  ------Crystal from random------\n  Dimension: 3\n  Composition: Ca4Ti4O12\n  Group: P n m a (62)\n    6.0000,   8.0000,   6.1000,  90.0000,  90.0000,  90.0000, orthorhombic\n  Wyckoff sites:\n  \tCa @ [ 0.5987  0.2500  0.0905], WP [4c] Site [.m.]\n  \tTi @ [ 0.0000  0.0000  0.5000], WP [4b] Site [-1]\n  \t O @ [ 0.9433  0.3895  0.9106], WP [8d] Site [1]\n  \t O @ [ 0.0000  0.0000  0.0000], WP [4a] Site [-1],\n  'ase_Atoms': Atoms(symbols='O12Ca4Ti4', pbc=True, cell=[[6.0, 3.6739403974420594e-16, 3.6739403974420594e-16], [0.0, 8.0, 4.898587196589413e-16], [0.0, 0.0, 6.1]])}}"
     },
     "execution_count": 2,
     "metadata": {},
     "output_type": "execute_result"
    }
   ],
   "source": [
    "out = get_structure_from_pyxtal(\n",
    "    reduced_formula=\"Ca2Ti2O6\",\n",
    "    space_group_number=62,\n",
    "    lattice_parameters=[6., 8., 6.1, 90., 90., 90.],\n",
    "    Z_start=1,\n",
    "    Z_end=6,\n",
    "    verbose=True,\n",
    "    logfile=\"test_log.log\",\n",
    "    cif_prefix=\"test\",\n",
    ")\n",
    "out"
   ]
  },
  {
   "cell_type": "code",
   "execution_count": 3,
   "outputs": [],
   "source": [
    "atoms = out[4]['ase_Atoms']"
   ],
   "metadata": {
    "collapsed": false,
    "ExecuteTime": {
     "end_time": "2024-04-26T19:12:57.978213100Z",
     "start_time": "2024-04-26T19:12:57.938666Z"
    }
   },
   "id": "abb42c4b8b0d3516"
  },
  {
   "cell_type": "code",
   "execution_count": 10,
   "outputs": [],
   "source": [
    "from cryspr.optimization.local import stepwise_relax"
   ],
   "metadata": {
    "collapsed": false,
    "ExecuteTime": {
     "end_time": "2024-04-26T19:29:12.661149300Z",
     "start_time": "2024-04-26T19:29:12.611209700Z"
    }
   },
   "id": "b054fef9e667b328"
  },
  {
   "cell_type": "code",
   "execution_count": 12,
   "outputs": [],
   "source": [
    "from cryspr.calculators import M3GNetCalculator"
   ],
   "metadata": {
    "collapsed": false,
    "ExecuteTime": {
     "end_time": "2024-04-26T19:31:17.341259800Z",
     "start_time": "2024-04-26T19:31:17.329733400Z"
    }
   },
   "id": "6a7e3e616bcae3a5"
  },
  {
   "cell_type": "code",
   "execution_count": 14,
   "outputs": [
    {
     "name": "stderr",
     "output_type": "stream",
     "text": [
      "C:\\Users\\nw2y4\\.conda\\envs\\compip\\lib\\site-packages\\matgl\\layers\\_basis.py:121: UserWarning: To copy construct from a tensor, it is recommended to use sourceTensor.clone().detach() or sourceTensor.clone().detach().requires_grad_(True), rather than torch.tensor(sourceTensor).\n",
      "  root = torch.tensor(roots[i])\n",
      "C:\\Users\\nw2y4\\.conda\\envs\\compip\\lib\\site-packages\\pymatgen\\io\\ase.py:268: UserWarning: Only FixAtoms is supported by Pymatgen. Other constraints will not be set.\n",
      "  warnings.warn(\n"
     ]
    }
   ],
   "source": [
    "calculator = M3GNetCalculator()\n",
    "atoms_relax = stepwise_relax(atoms_in=atoms,calculator=calculator,logfile_prefix=\"test_relax\",wdir=\"test_relax\")"
   ],
   "metadata": {
    "collapsed": false,
    "ExecuteTime": {
     "end_time": "2024-04-26T19:36:51.924277Z",
     "start_time": "2024-04-26T19:35:50.263531Z"
    }
   },
   "id": "7b48568f781cc62b"
  },
  {
   "cell_type": "code",
   "execution_count": null,
   "outputs": [],
   "source": [],
   "metadata": {
    "collapsed": false
   },
   "id": "12861fc586be7aed"
  }
 ],
 "metadata": {
  "kernelspec": {
   "display_name": "Python 3 (ipykernel)",
   "language": "python",
   "name": "python3"
  },
  "language_info": {
   "codemirror_mode": {
    "name": "ipython",
    "version": 3
   },
   "file_extension": ".py",
   "mimetype": "text/x-python",
   "name": "python",
   "nbconvert_exporter": "python",
   "pygments_lexer": "ipython3",
   "version": "3.9.19"
  }
 },
 "nbformat": 4,
 "nbformat_minor": 5
}
