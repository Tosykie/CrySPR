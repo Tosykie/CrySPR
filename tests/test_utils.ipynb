{
 "cells": [
  {
   "cell_type": "code",
   "execution_count": 1,
   "id": "0fca14c0",
   "metadata": {},
   "outputs": [],
   "source": [
    "import sys\n",
    "sys.path.insert(0, '..')"
   ]
  },
  {
   "cell_type": "code",
   "execution_count": 2,
   "id": "initial_id",
   "metadata": {
    "ExecuteTime": {
     "end_time": "2024-04-26T19:12:57.858779800Z",
     "start_time": "2024-04-26T19:12:52.844790900Z"
    },
    "scrolled": true
   },
   "outputs": [],
   "source": [
    "from cryspr.utils.struct import get_structure_from_pyxtal"
   ]
  },
  {
   "cell_type": "code",
   "execution_count": 4,
   "id": "766dd09b45a95954",
   "metadata": {
    "ExecuteTime": {
     "end_time": "2024-04-26T19:12:57.940346100Z",
     "start_time": "2024-04-26T19:12:57.863174700Z"
    }
   },
   "outputs": [
    {
     "name": "stdout",
     "output_type": "stream",
     "text": [
      "[2024-May-04 00:05:00] CrySPR Warning: Ignore the default inter-atomic distance matrix, use instead input lattice parameters.\n",
      "[2024-May-04 00:05:00] CrySPR Warning: The input lattice parameters might not be compatible with Z range: from 1 to 6. You should always check ...\n",
      "[2024-May-04 00:05:00] CrySPR Warning: Input chemical formula Ca2Ti2O6 is not reduced.\n",
      "[2024-May-04 00:05:00] CrySPR Warning: Reduced formula CaTiO3 will be used instead.\n",
      "\n",
      "\n",
      "[2024-May-04 00:05:00] CrySPR Error: Pyxtal exception occurred:\n",
      "Compoisition [1 1 3] not compatible with symmetry 62\n",
      "\n",
      "[2024-May-04 00:05:00] CrySPR Error: Pyxtal exception occurred:\n",
      "Compoisition [2 2 6] not compatible with symmetry 62\n",
      "\n",
      "[2024-May-04 00:05:00] CrySPR Error: Pyxtal exception occurred:\n",
      "Compoisition [3 3 9] not compatible with symmetry 62\n",
      "\n",
      "[2024-May-04 00:05:00] CrySPR Info: Successfully generated structure for Ca2Ti2O6 with Z = 4\n",
      "[2024-May-04 00:05:00] CrySPR Info: Degree of freedom: total = 10, lattice = 3, postions = 7\n",
      "[2024-May-04 00:05:00] CrySPR Info: pyxtal representation:\n",
      "\n",
      "------Crystal from random------\n",
      "Dimension: 3\n",
      "Composition: Ca4Ti4O12\n",
      "Group: P n m a (62)\n",
      "  5.5000,   7.8000,   5.4000,  90.0000,  90.0000,  90.0000, orthorhombic\n",
      "Wyckoff sites:\n",
      "\tCa @ [ 0.0000  0.0000  0.5000], WP [4b] Site [-1]\n",
      "\tTi @ [ 0.0363  0.2500  0.1746], WP [4c] Site [.m.]\n",
      "\t O @ [ 0.9342  0.0801  0.0293], WP [8d] Site [1]\n",
      "\t O @ [ 0.3099  0.2500  0.8908], WP [4c] Site [.m.]\n",
      "\n",
      "\n",
      "[2024-May-04 00:05:00] CrySPR Error: Pyxtal exception occurred:\n",
      "Compoisition [ 5  5 15] not compatible with symmetry 62\n",
      "\n",
      "[2024-May-04 00:05:00] CrySPR Error: Pyxtal exception occurred:\n",
      "Compoisition [ 6  6 18] not compatible with symmetry 62\n",
      "\n"
     ]
    },
    {
     "data": {
      "text/plain": [
       "{4: {'full_formula': 'Ca4Ti4O12',\n",
       "  'pyxtal': \n",
       "  ------Crystal from random------\n",
       "  Dimension: 3\n",
       "  Composition: Ca4Ti4O12\n",
       "  Group: P n m a (62)\n",
       "    5.5000,   7.8000,   5.4000,  90.0000,  90.0000,  90.0000, orthorhombic\n",
       "  Wyckoff sites:\n",
       "  \tCa @ [ 0.0000  0.0000  0.5000], WP [4b] Site [-1]\n",
       "  \tTi @ [ 0.0363  0.2500  0.1746], WP [4c] Site [.m.]\n",
       "  \t O @ [ 0.9342  0.0801  0.0293], WP [8d] Site [1]\n",
       "  \t O @ [ 0.3099  0.2500  0.8908], WP [4c] Site [.m.],\n",
       "  'ase_Atoms': Atoms(symbols='O12Ca4Ti4', pbc=True, cell=[[5.5, 3.3677786976552215e-16, 3.3677786976552215e-16], [0.0, 7.8, 4.776122516674677e-16], [0.0, 0.0, 5.4]])}}"
      ]
     },
     "execution_count": 4,
     "metadata": {},
     "output_type": "execute_result"
    }
   ],
   "source": [
    "out = get_structure_from_pyxtal(\n",
    "    reduced_formula=\"Ca2Ti2O6\",\n",
    "    space_group_number=62,\n",
    "    lattice_parameters=[5.5, 7.8, 5.4, 90., 90., 90.],\n",
    "    Z_start=1,\n",
    "    Z_end=6,\n",
    "    verbose=True,\n",
    "    logfile=\"test_utils.log\",\n",
    "    cif_prefix=\"test\",\n",
    ")\n",
    "out"
   ]
  },
  {
   "cell_type": "code",
   "execution_count": 5,
   "id": "b054fef9e667b328",
   "metadata": {
    "ExecuteTime": {
     "end_time": "2024-04-26T19:29:12.661149300Z",
     "start_time": "2024-04-26T19:29:12.611209700Z"
    }
   },
   "outputs": [
    {
     "name": "stderr",
     "output_type": "stream",
     "text": [
      "C:\\Users\\nw2y4\\.conda\\envs\\compip\\lib\\site-packages\\matgl\\apps\\pes.py:69: UserWarning: To copy construct from a tensor, it is recommended to use sourceTensor.clone().detach() or sourceTensor.clone().detach().requires_grad_(True), rather than torch.tensor(sourceTensor).\n",
      "  self.element_refs = AtomRef(property_offset=torch.tensor(element_refs, dtype=matgl.float_th))\n",
      "C:\\Users\\nw2y4\\.conda\\envs\\compip\\lib\\site-packages\\matgl\\apps\\pes.py:75: UserWarning: To copy construct from a tensor, it is recommended to use sourceTensor.clone().detach() or sourceTensor.clone().detach().requires_grad_(True), rather than torch.tensor(sourceTensor).\n",
      "  self.register_buffer(\"data_mean\", torch.tensor(data_mean, dtype=matgl.float_th))\n",
      "C:\\Users\\nw2y4\\.conda\\envs\\compip\\lib\\site-packages\\matgl\\apps\\pes.py:76: UserWarning: To copy construct from a tensor, it is recommended to use sourceTensor.clone().detach() or sourceTensor.clone().detach().requires_grad_(True), rather than torch.tensor(sourceTensor).\n",
      "  self.register_buffer(\"data_std\", torch.tensor(data_std, dtype=matgl.float_th))\n"
     ]
    }
   ],
   "source": [
    "from cryspr.calculators import CHGNetCalculator\n",
    "from cryspr.optimization.local import stepwise_relax"
   ]
  },
  {
   "cell_type": "code",
   "execution_count": 6,
   "id": "7b48568f781cc62b",
   "metadata": {
    "ExecuteTime": {
     "end_time": "2024-04-26T19:36:51.924277Z",
     "start_time": "2024-04-26T19:35:50.263531Z"
    }
   },
   "outputs": [
    {
     "name": "stdout",
     "output_type": "stream",
     "text": [
      "CHGNet v0.3.0 initialized with 412,525 parameters\n",
      "CHGNet will run on cpu\n"
     ]
    },
    {
     "name": "stderr",
     "output_type": "stream",
     "text": [
      "C:\\Users\\nw2y4\\.conda\\envs\\compip\\lib\\site-packages\\pymatgen\\io\\ase.py:268: UserWarning: Only FixAtoms is supported by Pymatgen. Other constraints will not be set.\n",
      "  warnings.warn(\n"
     ]
    }
   ],
   "source": [
    "atoms = out[4]['ase_Atoms']\n",
    "calculator = CHGNetCalculator()\n",
    "atoms_relax = stepwise_relax(atoms_in=atoms,calculator=calculator,logfile_prefix=\"test_relax\",wdir=\"test_relax\")"
   ]
  },
  {
   "cell_type": "code",
   "execution_count": null,
   "id": "12861fc586be7aed",
   "metadata": {},
   "outputs": [],
   "source": []
  }
 ],
 "metadata": {
  "kernelspec": {
   "display_name": "Python 3 (ipykernel)",
   "language": "python",
   "name": "python3"
  },
  "language_info": {
   "codemirror_mode": {
    "name": "ipython",
    "version": 3
   },
   "file_extension": ".py",
   "mimetype": "text/x-python",
   "name": "python",
   "nbconvert_exporter": "python",
   "pygments_lexer": "ipython3",
   "version": "3.9.19"
  }
 },
 "nbformat": 4,
 "nbformat_minor": 5
}
